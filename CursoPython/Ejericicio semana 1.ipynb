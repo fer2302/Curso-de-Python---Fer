{
 "cells": [
  {
   "cell_type": "markdown",
   "id": "4d97c1b6",
   "metadata": {},
   "source": [
    "# Mi primer programa \n"
   ]
  },
  {
   "cell_type": "code",
   "execution_count": 1,
   "id": "7dc4fa24",
   "metadata": {},
   "outputs": [
    {
     "name": "stdout",
     "output_type": "stream",
     "text": [
      "Hola mundo\n"
     ]
    }
   ],
   "source": [
    "print(\"Hola mundo\")"
   ]
  },
  {
   "cell_type": "code",
   "execution_count": 8,
   "id": "59205ec2",
   "metadata": {},
   "outputs": [],
   "source": [
    "import pingouin as pg"
   ]
  },
  {
   "cell_type": "code",
   "execution_count": 9,
   "id": "1b4a4a41",
   "metadata": {},
   "outputs": [],
   "source": [
    "a = 1\n",
    "b = 2"
   ]
  },
  {
   "cell_type": "code",
   "execution_count": 11,
   "id": "8210697b",
   "metadata": {},
   "outputs": [
    {
     "name": "stdout",
     "output_type": "stream",
     "text": [
      "3\n"
     ]
    }
   ],
   "source": [
    "print (c)"
   ]
  },
  {
   "cell_type": "markdown",
   "id": "19568856",
   "metadata": {},
   "source": [
    "Imprime c"
   ]
  },
  {
   "cell_type": "code",
   "execution_count": 10,
   "id": "1625097a",
   "metadata": {},
   "outputs": [],
   "source": [
    "c = a + b"
   ]
  },
  {
   "cell_type": "code",
   "execution_count": 12,
   "id": "bd228048",
   "metadata": {},
   "outputs": [
    {
     "data": {
      "text/plain": [
       "8"
      ]
     },
     "execution_count": 12,
     "metadata": {},
     "output_type": "execute_result"
    }
   ],
   "source": [
    "1 + 7"
   ]
  },
  {
   "cell_type": "markdown",
   "id": "5da4af5c",
   "metadata": {},
   "source": [
    "Ejercicio 1 "
   ]
  },
  {
   "cell_type": "code",
   "execution_count": 16,
   "id": "d8c29320",
   "metadata": {},
   "outputs": [
    {
     "name": "stdout",
     "output_type": "stream",
     "text": [
      "15\n",
      "5\n",
      "50\n",
      "2.0\n"
     ]
    }
   ],
   "source": [
    "a = 10\n",
    "b = 5\n",
    "\n",
    "#Addition \n",
    "addition = a + b\n",
    "print(addition)\n",
    "\n",
    "#Subtraction \n",
    "subtraction = a - b\n",
    "print(subtraction)\n",
    "\n",
    "#Multiplication \n",
    "multiplication = a * b\n",
    "print(multiplication)\n",
    "\n",
    "#Division \n",
    "division = a/b\n",
    "print(division)"
   ]
  },
  {
   "cell_type": "markdown",
   "id": "1be244e0",
   "metadata": {},
   "source": [
    "Ejercicio 2 - Funciones"
   ]
  },
  {
   "cell_type": "code",
   "execution_count": 8,
   "id": "211f2fb3",
   "metadata": {},
   "outputs": [
    {
     "name": "stdout",
     "output_type": "stream",
     "text": [
      "¡Hola Fer!\n"
     ]
    }
   ],
   "source": [
    "def saludar():\n",
    "    print(\"¡Hola Fer!\")\n",
    "saludar ()"
   ]
  },
  {
   "cell_type": "code",
   "execution_count": 11,
   "id": "05cd23c6",
   "metadata": {},
   "outputs": [
    {
     "name": "stdout",
     "output_type": "stream",
     "text": [
      "18\n"
     ]
    }
   ],
   "source": [
    "def suma (a, b):\n",
    "    c = 9\n",
    "    return a + b + c\n",
    "resultado = suma(5, 4)\n",
    "print(resultado)\n"
   ]
  },
  {
   "cell_type": "code",
   "execution_count": 12,
   "id": "91561b91",
   "metadata": {},
   "outputs": [
    {
     "name": "stdout",
     "output_type": "stream",
     "text": [
      "7\n"
     ]
    }
   ],
   "source": [
    "def add_two(num1):\n",
    "    result = num1 + 3\n",
    "    return result \n",
    "print(add_two(4))"
   ]
  },
  {
   "cell_type": "code",
   "execution_count": 13,
   "id": "553b1c93",
   "metadata": {},
   "outputs": [
    {
     "name": "stdout",
     "output_type": "stream",
     "text": [
      "14\n"
     ]
    }
   ],
   "source": [
    "def square_number(num):\n",
    "    return num + num \n",
    "print(square_number(7))"
   ]
  },
  {
   "cell_type": "code",
   "execution_count": 15,
   "id": "04b9ff1d",
   "metadata": {},
   "outputs": [
    {
     "name": "stdout",
     "output_type": "stream",
     "text": [
      "28\n"
     ]
    }
   ],
   "source": [
    "def multiple_two_numbers(num1, num2):\n",
    "    return num1 * num2\n",
    "print(multiple_two_numbers(4,7))"
   ]
  },
  {
   "cell_type": "code",
   "execution_count": 16,
   "id": "cc53be3a",
   "metadata": {},
   "outputs": [],
   "source": [
    "#sum of two numbers\n",
    "def sum_two_numbers(num1, num2):\n",
    "    return num1 + num2"
   ]
  },
  {
   "cell_type": "code",
   "execution_count": 17,
   "id": "36f3f7bb",
   "metadata": {},
   "outputs": [],
   "source": [
    "#square of a number\n",
    "def square_number(num): \n",
    "    return num * num"
   ]
  },
  {
   "cell_type": "code",
   "execution_count": 18,
   "id": "ee2d710c",
   "metadata": {},
   "outputs": [
    {
     "name": "stdout",
     "output_type": "stream",
     "text": [
      "64\n"
     ]
    }
   ],
   "source": [
    "#This function square the sum of two numbers\n",
    "def square_of_sum(num1, num2):\n",
    "    return square_number(sum_two_numbers(num1, num2))\n",
    "print(square_of_sum(5, 3))"
   ]
  },
  {
   "cell_type": "code",
   "execution_count": 19,
   "id": "956564f8",
   "metadata": {},
   "outputs": [
    {
     "name": "stdout",
     "output_type": "stream",
     "text": [
      "5\n"
     ]
    }
   ],
   "source": [
    "#This function add theree to a number\n",
    "def add_tree(x):\n",
    "    return x + 3\n",
    "print(add_tree(2))"
   ]
  },
  {
   "cell_type": "code",
   "execution_count": 20,
   "id": "892f762b",
   "metadata": {},
   "outputs": [],
   "source": [
    "#Reciprocal function\n",
    "def reciprocal(f):\n",
    "    return 1/f"
   ]
  },
  {
   "cell_type": "code",
   "execution_count": 21,
   "id": "750fc724",
   "metadata": {},
   "outputs": [
    {
     "data": {
      "text/plain": [
       "0.25"
      ]
     },
     "execution_count": 21,
     "metadata": {},
     "output_type": "execute_result"
    }
   ],
   "source": [
    "#Composition of two function\n",
    "def composite_function(x):\n",
    "    return reciprocal(add_tree(x))\n",
    "composite_function(1)"
   ]
  },
  {
   "cell_type": "code",
   "execution_count": 22,
   "id": "d4316f20",
   "metadata": {},
   "outputs": [
    {
     "name": "stdout",
     "output_type": "stream",
     "text": [
      "0.25\n"
     ]
    }
   ],
   "source": [
    "result = 1/(1+3)\n",
    "print(result)"
   ]
  },
  {
   "cell_type": "code",
   "execution_count": 25,
   "id": "80781f0f",
   "metadata": {},
   "outputs": [
    {
     "name": "stdout",
     "output_type": "stream",
     "text": [
      "5.0\n",
      "5.0\n",
      "0.0\n"
     ]
    }
   ],
   "source": [
    "def square_number(x):\n",
    "    return x * x\n",
    "def square_root(x):\n",
    "    return x ** 0.5\n",
    "def absolute_value(x):\n",
    "    return square_root(square_number(x))\n",
    "print(absolute_value(5))   # 5\n",
    "print(absolute_value(-5))  # 5\n",
    "print(absolute_value(0))   # 0"
   ]
  }
 ],
 "metadata": {
  "kernelspec": {
   "display_name": "base",
   "language": "python",
   "name": "python3"
  },
  "language_info": {
   "codemirror_mode": {
    "name": "ipython",
    "version": 3
   },
   "file_extension": ".py",
   "mimetype": "text/x-python",
   "name": "python",
   "nbconvert_exporter": "python",
   "pygments_lexer": "ipython3",
   "version": "3.12.4"
  }
 },
 "nbformat": 4,
 "nbformat_minor": 5
}
